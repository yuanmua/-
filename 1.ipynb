{
 "cells": [
  {
   "cell_type": "code",
   "id": "initial_id",
   "metadata": {
    "collapsed": true,
    "ExecuteTime": {
     "end_time": "2025-04-14T16:05:54.930365Z",
     "start_time": "2025-04-14T16:05:52.844589Z"
    }
   },
   "source": [
    "#准备工作\n",
    "import numpy as np\n",
    "import pandas as pd\n",
    "import statsmodels.api as sm\n",
    "import matplotlib.pyplot as plt\n",
    "from statsmodels.graphics.tsaplots import plot_acf,plot_pacf\n",
    "import itertools\n",
    "from sklearn.metrics import r2_score as rs\n",
    "import warnings\n",
    "\n",
    "warnings.filterwarnings(\"ignore\")#忽略输出警告\n",
    "plt.rcParams[\"font.sans-serif\"]=[\"SimHei\"]#用来正常显示中文标签\n",
    "plt.rcParams[\"axes.unicode_minus\"]=False#用来显示负号\n",
    "\n",
    "%matplotlib inline\n",
    "#在jupyter中显示figure，该语句只在jupyter上有用"
   ],
   "outputs": [],
   "execution_count": 2
  },
  {
   "metadata": {},
   "cell_type": "markdown",
   "source": "",
   "id": "f2981922f8659f98"
  },
  {
   "metadata": {
    "ExecuteTime": {
     "end_time": "2025-04-14T16:12:55.844910Z",
     "start_time": "2025-04-14T16:12:55.812041Z"
    }
   },
   "cell_type": "code",
   "source": [
    "sales_df = pd.read_csv(\"sql/glass_processing_sales_data_single_company.csv\",\n",
    "                       parse_dates=['销售日期'])\n",
    "\n",
    "# 按产品和时间排序\n",
    "sales_df = sales_df.sort_values(['产品名称', '销售日期'])\n",
    "\n",
    "# 创建时间序列特征\n",
    "sales_df['year'] = sales_df['销售日期'].dt.year\n",
    "sales_df['month'] = sales_df['销售日期'].dt.month\n",
    "sales_df['week'] = sales_df['销售日期'].dt.isocalendar().week"
   ],
   "id": "8d142313697fccb0",
   "outputs": [],
   "execution_count": 5
  },
  {
   "metadata": {
    "ExecuteTime": {
     "end_time": "2025-04-14T16:20:41.996142Z",
     "start_time": "2025-04-14T16:20:41.985950Z"
    }
   },
   "cell_type": "code",
   "source": [
    "products = sales_df['产品名称'].unique()\n",
    "targets = ['销售价格', '销售额', '净利率']\n",
    "\n",
    "# 选取第一个产品和目标\n",
    "product = products[0]\n",
    "target = targets[0]\n",
    "\n",
    "product_data = sales_df[sales_df['产品名称'] == product]\n",
    "y = product_data.set_index('销售日期')[target]\n",
    "\n",
    "product_data.head()\n",
    "print(product_data)\n",
    "\n",
    "# #折线图\n",
    "# fig, ax=plt.subplots(figsize=(15,15))\n",
    "# y.plot(ax=ax,fontsize=15)\n",
    "# ax.set_title(\"ILI率\",fontsize=25)\n",
    "# ax.set_xlabel(\"时间（周）\",fontsize=25)\n",
    "# ax.set_ylabel(\"ILI率%\",fontsize=25)\n",
    "# ax.legend(loc=\"best\",fontsize=15)\n",
    "# ax.grid()"
   ],
   "id": "48e292429c412f59",
   "outputs": [
    {
     "name": "stdout",
     "output_type": "stream",
     "text": [
      "           企业名称    销售区域   产品名称  销售数量   原价    销售价格       销售额  净利率       销售日期\n",
      "10361  铜仁玻璃有限公司  贵州省铜仁市  低辐射玻璃    15  450  1125.0   16875.0  0.6 2024-01-01\n",
      "10850  铜仁玻璃有限公司  贵州省铜仁市  低辐射玻璃   106  450  1125.0  119250.0  0.6 2024-01-01\n",
      "11146  铜仁玻璃有限公司  贵州省铜仁市  低辐射玻璃    63  450  1125.0   70875.0  0.6 2024-01-01\n",
      "3154   铜仁玻璃有限公司  贵州省铜仁市  低辐射玻璃    99  450  1125.0  111375.0  0.6 2024-01-02\n",
      "7803   铜仁玻璃有限公司  贵州省铜仁市  低辐射玻璃    57  450  1125.0   64125.0  0.6 2024-01-02\n",
      "...         ...     ...    ...   ...  ...     ...       ...  ...        ...\n",
      "6092   铜仁玻璃有限公司  贵州省铜仁市  低辐射玻璃   102  450  1125.0  114750.0  0.6 2025-01-01\n",
      "8108   铜仁玻璃有限公司  贵州省铜仁市  低辐射玻璃    75  450  1125.0   84375.0  0.6 2025-01-01\n",
      "8869   铜仁玻璃有限公司  贵州省铜仁市  低辐射玻璃    42  450  1125.0   47250.0  0.6 2025-01-01\n",
      "9883   铜仁玻璃有限公司  贵州省铜仁市  低辐射玻璃    58  450  1125.0   65250.0  0.6 2025-01-01\n",
      "10675  铜仁玻璃有限公司  贵州省铜仁市  低辐射玻璃    29  450  1125.0   32625.0  0.6 2025-01-01\n",
      "\n",
      "[1791 rows x 9 columns]\n"
     ]
    }
   ],
   "execution_count": 15
  },
  {
   "metadata": {},
   "cell_type": "code",
   "execution_count": null,
   "source": [
    "#LB白噪声检验\n",
    "from statsmodels.stats.diagnostic import acorr_ljungbox \n",
    "def test_white_noise(data,alpha):\n",
    "    [[lb],[p]]=acorr_ljungbox(data,lags=1)\n",
    "    if p<alpha:\n",
    "        print('LB白噪声检验结果：在显著性水平%s下，数据经检验为非白噪声序列'%alpha)\n",
    "    else:\n",
    "        print('LB白噪声检验结果：在显著性水平%s下，数据经检验为白噪声序列'%alpha) \n"
   ],
   "id": "79fe452d6fea2869",
   "outputs": []
  },
  {
   "metadata": {},
   "cell_type": "code",
   "execution_count": null,
   "source": "# 白噪声检验",
   "id": "a55770bc4994e6a2",
   "outputs": []
  },
  {
   "metadata": {
    "ExecuteTime": {
     "end_time": "2024-05-14T13:30:43.763453Z",
     "start_time": "2024-05-14T13:30:43.749363Z"
    }
   },
   "cell_type": "code",
   "source": [
    "#平稳性检验\n",
    "#自定义函数用于ADF检查平稳性\n",
    "from statsmodels.tsa.stattools import adfuller as ADF\n",
    "def test_stationarity(timeseries,alpha):#alpha为检验选取的显著性水平\n",
    "    adf=ADF(timeseries)\n",
    "    p=adf[1]#p值\n",
    "    critical_value=adf[4][\"5%\"]#在95%置信区间下的临界的ADF检验值\n",
    "    test_statistic=adf[0]#ADF统计量\n",
    "    if p<alpha and test_statistic<critical_value:\n",
    "        print(\"ADF平稳性检验结果：在显著性水平%s下，数据经检验平稳\"%alpha)\n",
    "        return True\n",
    "    else:\n",
    "        print(\"ADF平稳性检验结果：在显著性水平%s下，数据经检验不平稳\"%alpha)\n",
    "        return False"
   ],
   "id": "9552c2977aa41936",
   "execution_count": 195,
   "outputs": []
  },
  {
   "metadata": {},
   "cell_type": "code",
   "outputs": [],
   "execution_count": null,
   "source": [
    "# 添加时间序列特征和滞后特征\n",
    "for lag in [1, 2, 3, 4]:\n",
    "    product_data[f'lag_{lag}'] = product_data[target].shift(lag)\n",
    "\n",
    "# 添加移动平均特征\n",
    "product_data['rolling_3m_mean'] = product_data[target].rolling(window=3).mean()\n",
    "\n",
    "# 添加季节特征\n",
    "product_data['quarter'] = product_data['销售日期'].dt.quarter\n",
    "\n",
    "# 删除空值\n",
    "product_data = product_data.dropna()"
   ],
   "id": "a010f56026f9a4d1"
  },
  {
   "metadata": {
    "ExecuteTime": {
     "end_time": "2024-05-14T13:54:05.636193Z",
     "start_time": "2024-05-14T13:53:48.376983Z"
    }
   },
   "cell_type": "code",
   "source": [
    "#建立模型\n",
    "model=sm.tsa.SARIMAX(NGE,order=(1, 1, 1), seasonal_order=(1, 1, 1, 52))\n",
    "SARIMA_m=model.fit()\n",
    "print(SARIMA_m.summary())"
   ],
   "id": "809116046dbc0d4b",
   "execution_count": 223,
   "outputs": []
  },
  {
   "metadata": {
    "ExecuteTime": {
     "end_time": "2024-05-14T13:54:44.504129Z",
     "start_time": "2024-05-14T13:54:44.228760Z"
    }
   },
   "cell_type": "code",
   "source": [
    "pred=SARIMA_m.get_prediction(start=0,dynamic=False,full_results=True)\n",
    "\n",
    "forecast=SARIMA_m.get_forecast(steps=100)\n",
    "\n",
    "#预测整体可视化\n",
    "fig,ax=plt.subplots(figsize=(20,16))\n",
    "NGE.plot(ax=ax,label=\"base data\")\n",
    "forecast.predicted_mean.plot(ax=ax,label=\"forecast data\")\n",
    "#ax.fill_between(forecast.conf_int().index(),forecast.conf_int().iloc[:,0],\\\n",
    "#               forecast.conf_int().iloc[:,1],color='grey',alpha=0.15,label='confidence interval')\n",
    "ax.legend(loc=\"best\",fontsize=20)\n",
    "ax.set_xlabel(\"时间（周）\",fontsize=20)\n",
    "ax.set_ylabel(\"ILI率%\",fontsize=18)\n",
    "plt.xticks(fontsize=20)\n",
    "plt.yticks(fontsize=20)\n",
    "\n",
    "\n",
    "# plt.figure(figsize=(10,8))\n",
    "# plt.plot(NGE, label='原数据')\n",
    "# plt.plot(forecast, label='prediction数据')\n",
    "# plt.legend()\n",
    "# plt.show"
   ],
   "id": "f4ea5ca681761f7b",
   "execution_count": 226,
   "outputs": []
  },
  {
   "metadata": {
    "ExecuteTime": {
     "end_time": "2024-05-14T13:55:21.363941Z",
     "start_time": "2024-05-14T13:55:20.794231Z"
    }
   },
   "cell_type": "code",
   "source": [
    "#模型检验\n",
    "# test_white_noise(SARIMA_m.resid,0.05)#SARIMA_m.resid提取模型残差，并检验是否为白噪声\n",
    "fig=SARIMA_m.plot_diagnostics(figsize=(15,12))#plot_diagnostics对象允许我们快速生成模型诊断并调查任何异常行为"
   ],
   "id": "dfd2be42e7982e16",
   "execution_count": 227,
   "outputs": []
  },
  {
   "metadata": {
    "ExecuteTime": {
     "end_time": "2024-05-14T15:08:58.428238Z",
     "start_time": "2024-05-14T15:08:58.408327Z"
    }
   },
   "cell_type": "code",
   "source": [
    "#模型预测\n",
    "from sklearn.metrics import mean_squared_error as mse\n",
    "from sklearn.metrics import mean_absolute_error as mae\n",
    "#获取预测结果，自定义预测误差\n",
    "def PredictionAnalysis(data,model,start,dynamic=False):\n",
    "    pred=model.get_prediction(start=start,dynamic=dynamic,full_results=True)\n",
    "    pci=pred.conf_int()#置信区间\n",
    "    pm=pred.predicted_mean#预测值\n",
    "    truth=data[start:]#真实值\n",
    "    pc=pd.concat([truth,pm,pci],axis=1)#按列拼接\n",
    "    pc.columns=['true','pred','up','low']#定义列索引\n",
    "    print(type(truth))\n",
    "    print(type(pm))\n",
    "    print(\"1、MSE:{}\".format(mse(truth,pm)))\n",
    "    print(\"2、RMSE:{}\".format(np.sqrt(mse(truth,pm))))\n",
    "    print(\"3、MAE:{}\".format(mae(truth,pm)))\n",
    "    return pc\n",
    "#绘制预测结果\n",
    "def PredictonPlot(pc):\n",
    "    plt.figure(figsize=(10,8))\n",
    "    plt.fill_between(pc.index,pc['up'],pc['low'],color='grey',\n",
    "                     alpha=0.15,label='confidence interval')#画出置信区间\n",
    "    plt.plot(pc['true'],label='base data')\n",
    "    plt.plot(pc['pred'],label='prediction curve')\n",
    "    plt.legend()\n",
    "    plt.show\n",
    "    return True"
   ],
   "id": "adc5ea49e62469e0",
   "execution_count": 244,
   "outputs": []
  },
  {
   "metadata": {
    "ExecuteTime": {
     "end_time": "2024-05-14T13:55:58.155009Z",
     "start_time": "2024-05-14T13:55:58.146969Z"
    }
   },
   "cell_type": "code",
   "source": [
    "pred=SARIMA_m.get_prediction(start=0,dynamic=False,full_results=True)\n",
    "pm=pred.predicted_mean\n",
    "print(pm)"
   ],
   "id": "d5897be9a5eaa5b2",
   "execution_count": 229,
   "outputs": []
  },
  {
   "metadata": {
    "ExecuteTime": {
     "end_time": "2024-05-14T14:00:19.265662Z",
     "start_time": "2024-05-14T14:00:19.130984Z"
    }
   },
   "cell_type": "code",
   "source": [
    "pred = SARIMA_m.get_prediction(start=200, dynamic=False) #预测值\n",
    "# forecast=SARIMA_m.get_forecast(steps=50)\n",
    "\n",
    "pred_ci = pred.conf_int() #置信区间\n",
    " \n",
    "#画出预测值和真实值的plot图\n",
    "\n",
    "ax = NGE[0:].plot(label='真实值')\n",
    "pred.predicted_mean.plot(ax=ax, label='预测值', alpha=.7)\n",
    "\n",
    "ax.fill_between(pred_ci.index,\n",
    "                pred_ci.iloc[:, 0],\n",
    "                pred_ci.iloc[:, 1], color='k', alpha=.2)\n",
    "\n",
    "ax.set_xlabel('周')\n",
    "ax.set_ylabel('ILI率')\n",
    "plt.legend()\n",
    "\n",
    "plt.show()"
   ],
   "id": "a2c27f561704775e",
   "execution_count": 232,
   "outputs": []
  },
  {
   "metadata": {
    "ExecuteTime": {
     "end_time": "2024-05-14T15:09:01.564494Z",
     "start_time": "2024-05-14T15:09:01.392732Z"
    }
   },
   "cell_type": "code",
   "source": [
    "#静态预测：进行一系列的一步预测，即它必须用真实值来进行预测\n",
    "pred=PredictionAnalysis(NGE,SARIMA_m,100)\n",
    "PredictonPlot(pred)"
   ],
   "id": "bbe89b7ec862009b",
   "execution_count": 245,
   "outputs": []
  },
  {
   "metadata": {
    "ExecuteTime": {
     "end_time": "2024-05-14T15:08:35.862827Z",
     "start_time": "2024-05-14T15:08:35.632995Z"
    }
   },
   "cell_type": "code",
   "source": [
    "#动态预测：进行多步预测，除了第一个预测值是用实际值预测外，其后各预测值都是采用递推预测\n",
    "pred=PredictionAnalysis(NGE,SARIMA_m,200,dynamic=True)\n",
    "PredictonPlot(pred)"
   ],
   "id": "5d70cec43cdaacbc",
   "execution_count": 243,
   "outputs": []
  },
  {
   "metadata": {
    "ExecuteTime": {
     "end_time": "2024-05-14T12:46:15.526446Z",
     "start_time": "2024-05-14T12:46:15.203428Z"
    }
   },
   "cell_type": "code",
   "source": [
    "#预测未来\n",
    "forecast=SARIMA_m.get_forecast(steps=50)\n",
    "#预测整体可视化\n",
    "fig,ax=plt.subplots(figsize=(20,16))\n",
    "NGE.plot(ax=ax,label=\"base data\")\n",
    "forecast.predicted_mean.plot(ax=ax,label=\"forecast data\")\n",
    "#ax.fill_between(forecast.conf_int().index(),forecast.conf_int().iloc[:,0],\\\n",
    "#               forecast.conf_int().iloc[:,1],color='grey',alpha=0.15,label='confidence interval')\n",
    "ax.legend(loc=\"best\",fontsize=20)\n",
    "ax.set_xlabel(\"时间（周）\",fontsize=20)\n",
    "ax.set_ylabel(\"ILI率%\",fontsize=18)\n",
    "plt.xticks(fontsize=20)\n",
    "plt.yticks(fontsize=20)\n",
    "plt.show"
   ],
   "id": "f5951bb0596c227c",
   "execution_count": 173,
   "outputs": []
  },
  {
   "metadata": {
    "ExecuteTime": {
     "end_time": "2024-05-13T16:00:12.858834Z",
     "start_time": "2024-05-13T16:00:12.772838Z"
    }
   },
   "cell_type": "code",
   "source": "import xgboost as xgb",
   "id": "b05812bd72272a1b",
   "execution_count": 58,
   "outputs": []
  },
  {
   "metadata": {
    "ExecuteTime": {
     "end_time": "2024-05-14T14:13:59.029631Z",
     "start_time": "2024-05-14T14:13:59.016518Z"
    }
   },
   "cell_type": "code",
   "source": [
    "# 建立XGBoost模型\n",
    "xgb_model = xgb.XGBRegressor(n_estimators=10, max_depth=3, learning_rate=0.1)\n",
    "# 假设你已经有了预测因子和目标变量的数据，这里假设预测因子为X，目标变量为y\n",
    "xgb_model.fit(NGE, temperature)"
   ],
   "id": "6f2a6e6b4a87b471",
   "execution_count": 238,
   "outputs": []
  },
  {
   "metadata": {
    "ExecuteTime": {
     "end_time": "2024-05-13T18:36:45.971223Z",
     "start_time": "2024-05-13T18:36:45.782250Z"
    }
   },
   "cell_type": "code",
   "source": [
    "from sklearn.datasets import load_iris\n",
    "from sklearn.metrics import mean_squared_error, accuracy_score\n",
    "from sklearn.model_selection import train_test_split\n",
    "X_train, X_test, y_train, y_test = train_test_split(temperature, NGE, test_size=0.3, random_state=23)\n",
    "dtrain = xgb.DMatrix(temperature, label=NGE)\n",
    "dtest = xgb.DMatrix(temperature, label=NGE)\n",
    "# 设置参数\n",
    "params = {\n",
    "    'eta': 0.3,#学习率\n",
    "    # 'reg_alpha': 0.01,\n",
    "    # 'reg_lambda': 0.01,\n",
    "    'max_depth': 100\n",
    "}\n",
    "\n",
    "# 训练模型\n",
    "bst = xgb.train(\n",
    "    params=params,\n",
    "    dtrain=dtrain,\n",
    "    num_boost_round=20\n",
    ")\n",
    "\n",
    "# 预测结果\n",
    "ypred = bst.predict(dtest)\n",
    "print('MSE of prediction on boston dataset:', mean_squared_error(NGE, ypred))\n",
    "print('\\n')\n",
    "# print(NGE)\n",
    "# print(ypred)\n",
    "plt.figure(figsize=(10,8))\n",
    "plt.plot(NGE, label='原数据')\n",
    "plt.plot(ypred, label='prediction数据')\n",
    "plt.legend()\n",
    "plt.show\n",
    "\n",
    "\n",
    "\n",
    "# \n",
    "# fea_imp = xgbc.feature_importances_\n",
    "# print(fea_imp)\n",
    "\n",
    "# \n",
    "# ## 使用原生xgboost解决分类问题\n",
    "# # 读取数据\n",
    "# iris_data = load_iris()\n",
    "# X = iris_data.data\n",
    "# y = iris_data.target\n",
    "# X_train, X_test, y_train, y_test = train_test_split(X, y, test_size=0.3, random_state=23)\n",
    "# \n",
    "# dtrain = xgb.DMatrix(X_train, label=y_train)\n",
    "# dtest = xgb.DMatrix(X_test, label=y_test)\n",
    "# \n",
    "# # 设置参数\n",
    "# params = {\n",
    "#     'objective': 'multi:softmax',\n",
    "#     'num_class': 3,\n",
    "#     'eta': 0.1,\n",
    "#     'reg_alpha': 0.01,\n",
    "#     'reg_lambda': 0.01,\n",
    "#     'max_depth': 8\n",
    "# }\n",
    "# \n",
    "# # 训练模型\n",
    "# bst = xgb.train(\n",
    "#     params=params,\n",
    "#     dtrain=dtrain,\n",
    "#     num_boost_round=20,\n",
    "#     evals=[(dtrain, 'train'), (dtest, 'test')] # 将训练数据和测试数据都作为验证集，可以实时监督训练情况，是否过拟合\n",
    "# )\n",
    "\n",
    "# # 预测结果\n",
    "# result = bst.predict(\n",
    "#     dtest,\n",
    "#     ntree_limit=10\n",
    "# )\n",
    "# print('Accuracy of prediction on iris dataset:', accuracy_score(y_test, result))"
   ],
   "id": "e354733e9b29983f",
   "execution_count": 111,
   "outputs": []
  },
  {
   "metadata": {
    "ExecuteTime": {
     "end_time": "2024-05-14T14:47:46.182893Z",
     "start_time": "2024-05-14T14:47:45.979429Z"
    }
   },
   "cell_type": "code",
   "source": [
    "def update_weights(sarima_pred, xgb_pred, P, Q, R):\n",
    "    # 计算卡尔曼增益\n",
    "    K = P / (P + R)\n",
    "    # 更新权重\n",
    "    updated_weight = sarima_pred + K * (xgb_pred - sarima_pred)\n",
    "    # 更新P\n",
    "    P = P - K * P + Q\n",
    "    return updated_weight, P\n",
    "\n",
    "\n",
    "# 初始化P，Q，R\n",
    "P = 1\n",
    "Q = 0.1\n",
    "R = 0.1\n",
    "# 假设有两个模型的预测结果sarima_pred和xgb_pred\n",
    "sarima_pred = pm\n",
    "xgb_pred = ypred\n",
    "# 更新权重\n",
    "\n",
    "\n",
    "updated_weight, P = update_weights(sarima_pred, xgb_pred, P, Q, R)\n",
    "print(\"Updated Weight:\", updated_weight)\n",
    "final_prediction = updated_weight * sarima_pred + (1 - updated_weight) * xgb_pred\n",
    "print(\"Final Prediction:\", final_prediction)\n",
    "\n",
    "\n",
    "plt.figure(figsize=(10,8))\n",
    "plt.plot(NGE, label='原数据')\n",
    "plt.plot(updated_weight, label='prediction数据')\n",
    "plt.legend()\n",
    "plt.show\n",
    "\n"
   ],
   "id": "f8201c6493467d37",
   "execution_count": 241,
   "outputs": []
  },
  {
   "metadata": {
    "ExecuteTime": {
     "end_time": "2024-05-14T14:17:21.149249Z",
     "start_time": "2024-05-14T14:17:21.133280Z"
    }
   },
   "cell_type": "code",
   "source": [
    "from sklearn.metrics import mean_squared_error as mse\n",
    "from sklearn.metrics import mean_absolute_error as mae\n",
    "#获取预测结果，自定义预测误差\n",
    "def PredictionAnalysis(data,model,start,dynamic=False):\n",
    "    pred=model.get_prediction(start=start,dynamic=dynamic,full_results=True)\n",
    "    pci=pred.conf_int()#置信区间\n",
    "    pm=pred.predicted_mean#预测值\n",
    "    truth=data[start:]#真实值\n",
    "    pc=pd.concat([truth,pm,pci],axis=1)#按列拼接\n",
    "    pc.columns=['true','pred','up','low']#定义列索引\n",
    "    print(\"1、MSE:{}\".format(mse(truth,pm)))\n",
    "    print(\"2、RMSE:{}\".format(np.sqrt(mse(truth,pm))))\n",
    "    print(\"3、MAE:{}\".format(mae(truth,pm)))\n",
    "    return pc\n",
    "#绘制预测结果\n",
    "def PredictonPlot(pc):\n",
    "    plt.figure(figsize=(10,8))\n",
    "    plt.fill_between(pc.index,pc['up'],pc['low'],color='grey',\n",
    "                     alpha=0.15,label='confidence interval')#画出置信区间\n",
    "    plt.plot(pc['true'],label='base data')\n",
    "    plt.plot(pc['pred'],label='prediction curve')\n",
    "    plt.legend()\n",
    "    plt.show\n",
    "    return True"
   ],
   "id": "479fd84b82bd6f97",
   "execution_count": 240,
   "outputs": []
  }
 ],
 "metadata": {
  "kernelspec": {
   "display_name": "Python 3",
   "language": "python",
   "name": "python3"
  },
  "language_info": {
   "codemirror_mode": {
    "name": "ipython",
    "version": 2
   },
   "file_extension": ".py",
   "mimetype": "text/x-python",
   "name": "python",
   "nbconvert_exporter": "python",
   "pygments_lexer": "ipython2",
   "version": "2.7.6"
  }
 },
 "nbformat": 4,
 "nbformat_minor": 5
}
