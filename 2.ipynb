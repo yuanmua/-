{
 "cells": [
  {
   "cell_type": "code",
   "id": "2609bbc65e293b2a",
   "metadata": {
    "ExecuteTime": {
     "end_time": "2025-04-14T16:27:19.865001Z",
     "start_time": "2025-04-14T16:27:19.832537Z"
    }
   },
   "source": [
    "# 1. 数据读入：使用新的销售数据文件\n",
    "import pandas as pd\n",
    "import matplotlib.pyplot as plt\n",
    "import numpy as np\n",
    "import statsmodels.api as sm\n",
    "import xgboost as xgb\n",
    "from statsmodels.stats.diagnostic import acorr_ljungbox\n",
    "from statsmodels.tsa.stattools import adfuller as ADF\n",
    "from sklearn.metrics import mean_squared_error, mean_absolute_error\n",
    "\n",
    "# 读取销售数据，同时解析销售日期\n",
    "sales_df = pd.read_csv(\"sql/glass_processing_sales_data_single_company.csv\", parse_dates=['销售日期'])\n",
    "\n",
    "# 查看数据（可选）\n",
    "print(sales_df.head())"
   ],
   "outputs": [
    {
     "name": "stdout",
     "output_type": "stream",
     "text": [
      "       企业名称    销售区域  产品名称  销售数量   原价   销售价格       销售额   净利率       销售日期\n",
      "0  铜仁玻璃有限公司  贵州省铜仁市  单片玻璃   178  150  225.0   40050.0  0.33 2024-12-29\n",
      "1  铜仁玻璃有限公司  贵州省铜仁市  夹层玻璃    37  350  735.0   27195.0  0.52 2024-11-02\n",
      "2  铜仁玻璃有限公司  贵州省铜仁市  双层玻璃   169  400  920.0  155480.0  0.57 2024-04-01\n",
      "3  铜仁玻璃有限公司  贵州省铜仁市  夹层玻璃   116  350  735.0   85260.0  0.52 2024-01-07\n",
      "4  铜仁玻璃有限公司  贵州省铜仁市  夹层玻璃   188  350  735.0  138180.0  0.52 2024-03-21\n"
     ]
    }
   ],
   "execution_count": 3
  },
  {
   "metadata": {
    "ExecuteTime": {
     "end_time": "2025-04-14T16:59:10.576179Z",
     "start_time": "2025-04-14T16:27:19.947384Z"
    }
   },
   "cell_type": "code",
   "source": [
    "\n",
    "# 2. 针对不同玻璃种类，可以选择按产品名称分组建模，也可以直接整体预测\n",
    "# 这里以整体数据为例，同时预测三个指标：\n",
    "# 销售价格、销售额、净利率\n",
    "\n",
    "# 提取目标变量：假设我们以时间序列方式预测，每个指标按销售日期排序\n",
    "sales_df.sort_values(by='销售日期', inplace=True)\n",
    "sales_df.set_index('销售日期', inplace=True)\n",
    "\n",
    "# 分别提取三个目标指标的序列\n",
    "price_series = sales_df['销售价格']\n",
    "revenue_series = sales_df['销售额']\n",
    "margin_series = sales_df['净利率']\n",
    "\n",
    "# 例如：针对销售价格的预测\n",
    "model_price = sm.tsa.SARIMAX(price_series, order=(1, 1, 1), seasonal_order=(1, 1, 1, 52))\n",
    "SARIMA_price = model_price.fit()\n",
    "print(SARIMA_price.summary())"
   ],
   "id": "7389128708295fd3",
   "outputs": [
    {
     "name": "stderr",
     "output_type": "stream",
     "text": [
      "C:\\Users\\13441\\AppData\\Local\\Programs\\Python\\Python312\\Lib\\site-packages\\statsmodels\\tsa\\base\\tsa_model.py:473: ValueWarning: A date index has been provided, but it has no associated frequency information and so will be ignored when e.g. forecasting.\n",
      "  self._init_dates(dates, freq)\n",
      "C:\\Users\\13441\\AppData\\Local\\Programs\\Python\\Python312\\Lib\\site-packages\\statsmodels\\tsa\\base\\tsa_model.py:473: ValueWarning: A date index has been provided, but it has no associated frequency information and so will be ignored when e.g. forecasting.\n",
      "  self._init_dates(dates, freq)\n"
     ]
    },
    {
     "name": "stdout",
     "output_type": "stream",
     "text": [
      "                                     SARIMAX Results                                      \n",
      "==========================================================================================\n",
      "Dep. Variable:                               销售价格   No. Observations:                12541\n",
      "Model:             SARIMAX(1, 1, 1)x(1, 1, 1, 52)   Log Likelihood              -88771.459\n",
      "Date:                            Tue, 15 Apr 2025   AIC                         177552.918\n",
      "Time:                                    00:59:09   BIC                         177590.081\n",
      "Sample:                                         0   HQIC                        177565.360\n",
      "                                          - 12541                                         \n",
      "Covariance Type:                              opg                                         \n",
      "==============================================================================\n",
      "                 coef    std err          z      P>|z|      [0.025      0.975]\n",
      "------------------------------------------------------------------------------\n",
      "ar.L1          0.0051      0.009      0.564      0.573      -0.013       0.023\n",
      "ma.L1         -1.0000      0.013    -79.840      0.000      -1.025      -0.975\n",
      "ar.S.L52       0.0060      0.009      0.659      0.510      -0.012       0.024\n",
      "ma.S.L52      -1.0000      1.012     -0.988      0.323      -2.983       0.983\n",
      "sigma2      8.542e+04   8.63e+04      0.990      0.322   -8.37e+04    2.55e+05\n",
      "===================================================================================\n",
      "Ljung-Box (L1) (Q):                   0.00   Jarque-Bera (JB):               723.77\n",
      "Prob(Q):                              0.97   Prob(JB):                         0.00\n",
      "Heteroskedasticity (H):               1.00   Skew:                             0.29\n",
      "Prob(H) (two-sided):                  0.94   Kurtosis:                         1.97\n",
      "===================================================================================\n",
      "\n",
      "Warnings:\n",
      "[1] Covariance matrix calculated using the outer product of gradients (complex-step).\n"
     ]
    }
   ],
   "execution_count": 4
  },
  {
   "metadata": {
    "ExecuteTime": {
     "end_time": "2025-04-14T16:59:26.142582Z",
     "start_time": "2025-04-14T16:59:25.897894Z"
    }
   },
   "cell_type": "code",
   "source": [
    "\n",
    "# 绘制销售价格的预测结果\n",
    "forecast_price = SARIMA_price.get_forecast(steps=20)  # 预测未来20个时间点\n",
    "fig, ax = plt.subplots(figsize=(12, 6))\n",
    "price_series.plot(ax=ax, label='历史销售价格')\n",
    "forecast_price.predicted_mean.plot(ax=ax, label='预测销售价格', alpha=0.7)\n",
    "ax.fill_between(forecast_price.conf_int().index(),\n",
    "                forecast_price.conf_int().iloc[:, 0],\n",
    "                forecast_price.conf_int().iloc[:, 1],\n",
    "                color='grey', alpha=0.3)\n",
    "ax.set_xlabel(\"销售日期\")\n",
    "ax.set_ylabel(\"销售价格\")\n",
    "ax.legend()\n",
    "plt.show()"
   ],
   "id": "85a987b01ae3ac4b",
   "outputs": [
    {
     "name": "stderr",
     "output_type": "stream",
     "text": [
      "C:\\Users\\13441\\AppData\\Local\\Programs\\Python\\Python312\\Lib\\site-packages\\statsmodels\\tsa\\base\\tsa_model.py:837: ValueWarning: No supported index is available. Prediction results will be given with an integer index beginning at `start`.\n",
      "  return get_prediction_index(\n",
      "C:\\Users\\13441\\AppData\\Local\\Programs\\Python\\Python312\\Lib\\site-packages\\statsmodels\\tsa\\base\\tsa_model.py:837: FutureWarning: No supported index is available. In the next version, calling this method in a model without a supported index will result in an exception.\n",
      "  return get_prediction_index(\n"
     ]
    },
    {
     "ename": "TypeError",
     "evalue": "'RangeIndex' object is not callable",
     "output_type": "error",
     "traceback": [
      "\u001B[31m---------------------------------------------------------------------------\u001B[39m",
      "\u001B[31mTypeError\u001B[39m                                 Traceback (most recent call last)",
      "\u001B[36mCell\u001B[39m\u001B[36m \u001B[39m\u001B[32mIn[6]\u001B[39m\u001B[32m, line 6\u001B[39m\n\u001B[32m      4\u001B[39m price_series.plot(ax=ax, label=\u001B[33m'\u001B[39m\u001B[33m历史销售价格\u001B[39m\u001B[33m'\u001B[39m)\n\u001B[32m      5\u001B[39m forecast_price.predicted_mean.plot(ax=ax, label=\u001B[33m'\u001B[39m\u001B[33m预测销售价格\u001B[39m\u001B[33m'\u001B[39m, alpha=\u001B[32m0.7\u001B[39m)\n\u001B[32m----> \u001B[39m\u001B[32m6\u001B[39m ax.fill_between(\u001B[43mforecast_price\u001B[49m\u001B[43m.\u001B[49m\u001B[43mconf_int\u001B[49m\u001B[43m(\u001B[49m\u001B[43m)\u001B[49m\u001B[43m.\u001B[49m\u001B[43mindex\u001B[49m\u001B[43m(\u001B[49m\u001B[43m)\u001B[49m,\n\u001B[32m      7\u001B[39m                 forecast_price.conf_int().iloc[:, \u001B[32m0\u001B[39m],\n\u001B[32m      8\u001B[39m                 forecast_price.conf_int().iloc[:, \u001B[32m1\u001B[39m],\n\u001B[32m      9\u001B[39m                 color=\u001B[33m'\u001B[39m\u001B[33mgrey\u001B[39m\u001B[33m'\u001B[39m, alpha=\u001B[32m0.3\u001B[39m)\n\u001B[32m     10\u001B[39m ax.set_xlabel(\u001B[33m\"\u001B[39m\u001B[33m销售日期\u001B[39m\u001B[33m\"\u001B[39m)\n\u001B[32m     11\u001B[39m ax.set_ylabel(\u001B[33m\"\u001B[39m\u001B[33m销售价格\u001B[39m\u001B[33m\"\u001B[39m)\n",
      "\u001B[31mTypeError\u001B[39m: 'RangeIndex' object is not callable"
     ]
    },
    {
     "name": "stderr",
     "output_type": "stream",
     "text": [
      "C:\\Users\\13441\\AppData\\Local\\Programs\\Python\\Python312\\Lib\\site-packages\\IPython\\core\\events.py:82: UserWarning: Glyph 38144 (\\N{CJK UNIFIED IDEOGRAPH-9500}) missing from font(s) DejaVu Sans.\n",
      "  func(*args, **kwargs)\n",
      "C:\\Users\\13441\\AppData\\Local\\Programs\\Python\\Python312\\Lib\\site-packages\\IPython\\core\\events.py:82: UserWarning: Glyph 21806 (\\N{CJK UNIFIED IDEOGRAPH-552E}) missing from font(s) DejaVu Sans.\n",
      "  func(*args, **kwargs)\n",
      "C:\\Users\\13441\\AppData\\Local\\Programs\\Python\\Python312\\Lib\\site-packages\\IPython\\core\\events.py:82: UserWarning: Glyph 26085 (\\N{CJK UNIFIED IDEOGRAPH-65E5}) missing from font(s) DejaVu Sans.\n",
      "  func(*args, **kwargs)\n",
      "C:\\Users\\13441\\AppData\\Local\\Programs\\Python\\Python312\\Lib\\site-packages\\IPython\\core\\events.py:82: UserWarning: Glyph 26399 (\\N{CJK UNIFIED IDEOGRAPH-671F}) missing from font(s) DejaVu Sans.\n",
      "  func(*args, **kwargs)\n",
      "C:\\Users\\13441\\AppData\\Local\\Programs\\Python\\Python312\\Lib\\site-packages\\IPython\\core\\pylabtools.py:170: UserWarning: Glyph 38144 (\\N{CJK UNIFIED IDEOGRAPH-9500}) missing from font(s) DejaVu Sans.\n",
      "  fig.canvas.print_figure(bytes_io, **kw)\n",
      "C:\\Users\\13441\\AppData\\Local\\Programs\\Python\\Python312\\Lib\\site-packages\\IPython\\core\\pylabtools.py:170: UserWarning: Glyph 21806 (\\N{CJK UNIFIED IDEOGRAPH-552E}) missing from font(s) DejaVu Sans.\n",
      "  fig.canvas.print_figure(bytes_io, **kw)\n",
      "C:\\Users\\13441\\AppData\\Local\\Programs\\Python\\Python312\\Lib\\site-packages\\IPython\\core\\pylabtools.py:170: UserWarning: Glyph 26085 (\\N{CJK UNIFIED IDEOGRAPH-65E5}) missing from font(s) DejaVu Sans.\n",
      "  fig.canvas.print_figure(bytes_io, **kw)\n",
      "C:\\Users\\13441\\AppData\\Local\\Programs\\Python\\Python312\\Lib\\site-packages\\IPython\\core\\pylabtools.py:170: UserWarning: Glyph 26399 (\\N{CJK UNIFIED IDEOGRAPH-671F}) missing from font(s) DejaVu Sans.\n",
      "  fig.canvas.print_figure(bytes_io, **kw)\n"
     ]
    },
    {
     "data": {
      "text/plain": [
       "<Figure size 1200x600 with 1 Axes>"
      ],
      "image/png": "[encoded data removed]"
     },
     "metadata": {},
     "output_type": "display_data"
    }
   ],
   "execution_count": 6
  },
  {
   "metadata": {
    "collapsed": true,
    "ExecuteTime": {
     "end_time": "2025-04-14T17:01:45.866970Z",
     "start_time": "2025-04-14T16:59:31.860781Z"
    }
   },
   "cell_type": "code",
   "source": [
    "\n",
    "model_revenue = sm.tsa.SARIMAX(revenue_series, order=(1, 1, 1), seasonal_order=(1, 1, 1, 52))\n",
    "SARIMA_revenue = model_revenue.fit()\n",
    "print(SARIMA_revenue.summary())\n",
    "\n",
    "forecast_revenue = SARIMA_revenue.get_forecast(steps=20)\n",
    "fig, ax = plt.subplots(figsize=(12, 6))\n",
    "revenue_series.plot(ax=ax, label='历史销售额')\n",
    "forecast_revenue.predicted_mean.plot(ax=ax, label='预测销售额', alpha=0.7)\n",
    "ax.fill_between(forecast_revenue.conf_int().index(),\n",
    "                forecast_revenue.conf_int().iloc[:, 0],\n",
    "                forecast_revenue.conf_int().iloc[:, 1],\n",
    "                color='grey', alpha=0.3)\n",
    "ax.set_xlabel(\"销售日期\")\n",
    "ax.set_ylabel(\"销售额\")\n",
    "ax.legend()\n",
    "plt.show()\n",
    "\n",
    "model_margin = sm.tsa.SARIMAX(margin_series, order=(1, 1, 1), seasonal_order=(1, 1, 1, 52))\n",
    "SARIMA_margin = model_margin.fit()\n",
    "print(SARIMA_margin.summary())\n",
    "\n",
    "forecast_margin = SARIMA_margin.get_forecast(steps=20)\n",
    "fig, ax = plt.subplots(figsize=(12, 6))\n",
    "margin_series.plot(ax=ax, label='历史净利率')\n",
    "forecast_margin.predicted_mean.plot(ax=ax, label='预测净利率', alpha=0.7)\n",
    "ax.fill_between(forecast_margin.conf_int().index(),\n",
    "                forecast_margin.conf_int().iloc[:, 0],\n",
    "                forecast_margin.conf_int().iloc[:, 1],\n",
    "                color='grey', alpha=0.3)\n",
    "ax.set_xlabel(\"销售日期\")\n",
    "ax.set_ylabel(\"净利率\")\n",
    "ax.legend()\n",
    "plt.show()\n",
    "\n",
    "# 3. 如果需要结合机器学习模型（如XGBoost）来预测指标，也可以类似修改：\n",
    "# 构造特征（例如，利用日期特征、产品种类的虚拟变量等）——这里仅作为示例使用销售日期的时间戳作为唯一特征\n",
    "\n",
    "# 将销售日期转换为数值型特征（例如时间戳）\n",
    "sales_df['timestamp'] = sales_df.index.astype(np.int64) // 10 ** 9  # 单位：秒\n",
    "\n",
    "# 构造XGBoost预测销售价格的示例\n",
    "X = sales_df[['timestamp']]\n",
    "y_price = sales_df['销售价格']\n",
    "\n",
    "# 划分训练集与测试集（示例中直接使用全部数据）\n",
    "xgb_price_model = xgb.XGBRegressor(n_estimators=50, max_depth=3, learning_rate=0.1)\n",
    "xgb_price_model.fit(X, y_price)\n",
    "\n",
    "# 预测并计算误差\n",
    "price_pred = xgb_price_model.predict(X)\n",
    "print(\"XGBoost销售价格预测 - MSE:\", mean_squared_error(y_price, price_pred))\n",
    "plt.figure(figsize=(10, 6))\n",
    "plt.plot(y_price.values, label='真实销售价格')\n",
    "plt.plot(price_pred, label='XGBoost预测销售价格')\n",
    "plt.legend()\n",
    "plt.show()\n",
    "\n",
    "\n",
    "# 同样方式可以构造销售额和净利率的XGBoost预测模型\n",
    "\n",
    "# 4. 结合时间序列模型和机器学习模型的预测结果（例如，采用加权融合）：\n",
    "def update_weights(sarima_pred, xgb_pred, P, Q, R):\n",
    "    # 计算卡尔曼增益\n",
    "    K = P / (P + R)\n",
    "    # 更新权重\n",
    "    updated_weight = sarima_pred + K * (xgb_pred - sarima_pred)\n",
    "    # 更新P\n",
    "    P = P - K * P + Q\n",
    "    return updated_weight, P\n",
    "\n",
    "\n",
    "# 假设针对销售价格，我们分别获得SARIMA和XGBoost的预测\n",
    "sarima_price_pred = forecast_price.predicted_mean  # SARIMA预测值（Series类型）\n",
    "# 为保持维度一致，这里简单地取XGBoost在预测区间对应的值\n",
    "# 注意：实际中需要构造合适的预测时间特征\n",
    "xgb_price_pred = xgb_price_model.predict(np.array(sarima_price_pred.index.astype(np.int64) // 10 ** 9).reshape(-1, 1))\n",
    "\n",
    "# 初始化卡尔曼滤波参数\n",
    "P, Q, R = 1, 0.1, 0.1\n",
    "updated_weight, P = update_weights(sarima_price_pred, xgb_price_pred, P, Q, R)\n",
    "final_price_prediction = updated_weight * sarima_price_pred + (1 - updated_weight) * xgb_price_pred\n",
    "print(\"融合预测销售价格：\", final_price_prediction)\n",
    "\n",
    "plt.figure(figsize=(10, 6))\n",
    "plt.plot(price_series[-50:], label='历史销售价格')\n",
    "plt.plot(final_price_prediction, label='融合预测销售价格')\n",
    "plt.legend()\n",
    "plt.show()\n"
   ],
   "id": "initial_id",
   "outputs": [
    {
     "name": "stderr",
     "output_type": "stream",
     "text": [
      "C:\\Users\\13441\\AppData\\Local\\Programs\\Python\\Python312\\Lib\\site-packages\\statsmodels\\tsa\\base\\tsa_model.py:473: ValueWarning: A date index has been provided, but it has no associated frequency information and so will be ignored when e.g. forecasting.\n",
      "  self._init_dates(dates, freq)\n",
      "C:\\Users\\13441\\AppData\\Local\\Programs\\Python\\Python312\\Lib\\site-packages\\statsmodels\\tsa\\base\\tsa_model.py:473: ValueWarning: A date index has been provided, but it has no associated frequency information and so will be ignored when e.g. forecasting.\n",
      "  self._init_dates(dates, freq)\n"
     ]
    },
    {
     "ename": "KeyboardInterrupt",
     "evalue": "",
     "output_type": "error",
     "traceback": [
      "\u001B[31m---------------------------------------------------------------------------\u001B[39m",
      "\u001B[31mKeyboardInterrupt\u001B[39m                         Traceback (most recent call last)",
      "\u001B[36mCell\u001B[39m\u001B[36m \u001B[39m\u001B[32mIn[7]\u001B[39m\u001B[32m, line 2\u001B[39m\n\u001B[32m      1\u001B[39m model_revenue = sm.tsa.SARIMAX(revenue_series, order=(\u001B[32m1\u001B[39m, \u001B[32m1\u001B[39m, \u001B[32m1\u001B[39m), seasonal_order=(\u001B[32m1\u001B[39m, \u001B[32m1\u001B[39m, \u001B[32m1\u001B[39m, \u001B[32m52\u001B[39m))\n\u001B[32m----> \u001B[39m\u001B[32m2\u001B[39m SARIMA_revenue = \u001B[43mmodel_revenue\u001B[49m\u001B[43m.\u001B[49m\u001B[43mfit\u001B[49m\u001B[43m(\u001B[49m\u001B[43m)\u001B[49m\n\u001B[32m      3\u001B[39m \u001B[38;5;28mprint\u001B[39m(SARIMA_revenue.summary())\n\u001B[32m      5\u001B[39m forecast_revenue = SARIMA_revenue.get_forecast(steps=\u001B[32m20\u001B[39m)\n",
      "\u001B[36mFile \u001B[39m\u001B[32m~\\AppData\\Local\\Programs\\Python\\Python312\\Lib\\site-packages\\statsmodels\\tsa\\statespace\\mlemodel.py:705\u001B[39m, in \u001B[36mMLEModel.fit\u001B[39m\u001B[34m(self, start_params, transformed, includes_fixed, cov_type, cov_kwds, method, maxiter, full_output, disp, callback, return_params, optim_score, optim_complex_step, optim_hessian, flags, low_memory, **kwargs)\u001B[39m\n\u001B[32m    703\u001B[39m         flags[\u001B[33m'\u001B[39m\u001B[33mhessian_method\u001B[39m\u001B[33m'\u001B[39m] = optim_hessian\n\u001B[32m    704\u001B[39m     fargs = (flags,)\n\u001B[32m--> \u001B[39m\u001B[32m705\u001B[39m     mlefit = \u001B[38;5;28;43msuper\u001B[39;49m\u001B[43m(\u001B[49m\u001B[43m)\u001B[49m\u001B[43m.\u001B[49m\u001B[43mfit\u001B[49m\u001B[43m(\u001B[49m\u001B[43mstart_params\u001B[49m\u001B[43m,\u001B[49m\u001B[43m \u001B[49m\u001B[43mmethod\u001B[49m\u001B[43m=\u001B[49m\u001B[43mmethod\u001B[49m\u001B[43m,\u001B[49m\n\u001B[32m    706\u001B[39m \u001B[43m                         \u001B[49m\u001B[43mfargs\u001B[49m\u001B[43m=\u001B[49m\u001B[43mfargs\u001B[49m\u001B[43m,\u001B[49m\n\u001B[32m    707\u001B[39m \u001B[43m                         \u001B[49m\u001B[43mmaxiter\u001B[49m\u001B[43m=\u001B[49m\u001B[43mmaxiter\u001B[49m\u001B[43m,\u001B[49m\n\u001B[32m    708\u001B[39m \u001B[43m                         \u001B[49m\u001B[43mfull_output\u001B[49m\u001B[43m=\u001B[49m\u001B[43mfull_output\u001B[49m\u001B[43m,\u001B[49m\n\u001B[32m    709\u001B[39m \u001B[43m                         \u001B[49m\u001B[43mdisp\u001B[49m\u001B[43m=\u001B[49m\u001B[43mdisp\u001B[49m\u001B[43m,\u001B[49m\u001B[43m \u001B[49m\u001B[43mcallback\u001B[49m\u001B[43m=\u001B[49m\u001B[43mcallback\u001B[49m\u001B[43m,\u001B[49m\n\u001B[32m    710\u001B[39m \u001B[43m                         \u001B[49m\u001B[43mskip_hessian\u001B[49m\u001B[43m=\u001B[49m\u001B[38;5;28;43;01mTrue\u001B[39;49;00m\u001B[43m,\u001B[49m\u001B[43m \u001B[49m\u001B[43m*\u001B[49m\u001B[43m*\u001B[49m\u001B[43mkwargs\u001B[49m\u001B[43m)\u001B[49m\n\u001B[32m    712\u001B[39m \u001B[38;5;66;03m# Just return the fitted parameters if requested\u001B[39;00m\n\u001B[32m    713\u001B[39m \u001B[38;5;28;01mif\u001B[39;00m return_params:\n",
      "\u001B[36mFile \u001B[39m\u001B[32m~\\AppData\\Local\\Programs\\Python\\Python312\\Lib\\site-packages\\statsmodels\\base\\model.py:566\u001B[39m, in \u001B[36mLikelihoodModel.fit\u001B[39m\u001B[34m(self, start_params, method, maxiter, full_output, disp, fargs, callback, retall, skip_hessian, **kwargs)\u001B[39m\n\u001B[32m    563\u001B[39m     \u001B[38;5;28;01mdel\u001B[39;00m kwargs[\u001B[33m\"\u001B[39m\u001B[33muse_t\u001B[39m\u001B[33m\"\u001B[39m]\n\u001B[32m    565\u001B[39m optimizer = Optimizer()\n\u001B[32m--> \u001B[39m\u001B[32m566\u001B[39m xopt, retvals, optim_settings = \u001B[43moptimizer\u001B[49m\u001B[43m.\u001B[49m\u001B[43m_fit\u001B[49m\u001B[43m(\u001B[49m\u001B[43mf\u001B[49m\u001B[43m,\u001B[49m\u001B[43m \u001B[49m\u001B[43mscore\u001B[49m\u001B[43m,\u001B[49m\u001B[43m \u001B[49m\u001B[43mstart_params\u001B[49m\u001B[43m,\u001B[49m\n\u001B[32m    567\u001B[39m \u001B[43m                                               \u001B[49m\u001B[43mfargs\u001B[49m\u001B[43m,\u001B[49m\u001B[43m \u001B[49m\u001B[43mkwargs\u001B[49m\u001B[43m,\u001B[49m\n\u001B[32m    568\u001B[39m \u001B[43m                                               \u001B[49m\u001B[43mhessian\u001B[49m\u001B[43m=\u001B[49m\u001B[43mhess\u001B[49m\u001B[43m,\u001B[49m\n\u001B[32m    569\u001B[39m \u001B[43m                                               \u001B[49m\u001B[43mmethod\u001B[49m\u001B[43m=\u001B[49m\u001B[43mmethod\u001B[49m\u001B[43m,\u001B[49m\n\u001B[32m    570\u001B[39m \u001B[43m                                               \u001B[49m\u001B[43mdisp\u001B[49m\u001B[43m=\u001B[49m\u001B[43mdisp\u001B[49m\u001B[43m,\u001B[49m\n\u001B[32m    571\u001B[39m \u001B[43m                                               \u001B[49m\u001B[43mmaxiter\u001B[49m\u001B[43m=\u001B[49m\u001B[43mmaxiter\u001B[49m\u001B[43m,\u001B[49m\n\u001B[32m    572\u001B[39m \u001B[43m                                               \u001B[49m\u001B[43mcallback\u001B[49m\u001B[43m=\u001B[49m\u001B[43mcallback\u001B[49m\u001B[43m,\u001B[49m\n\u001B[32m    573\u001B[39m \u001B[43m                                               \u001B[49m\u001B[43mretall\u001B[49m\u001B[43m=\u001B[49m\u001B[43mretall\u001B[49m\u001B[43m,\u001B[49m\n\u001B[32m    574\u001B[39m \u001B[43m                                               \u001B[49m\u001B[43mfull_output\u001B[49m\u001B[43m=\u001B[49m\u001B[43mfull_output\u001B[49m\u001B[43m)\u001B[49m\n\u001B[32m    575\u001B[39m \u001B[38;5;66;03m# Restore cov_type, cov_kwds and use_t\u001B[39;00m\n\u001B[32m    576\u001B[39m optim_settings.update(kwds)\n",
      "\u001B[36mFile \u001B[39m\u001B[32m~\\AppData\\Local\\Programs\\Python\\Python312\\Lib\\site-packages\\statsmodels\\base\\optimizer.py:243\u001B[39m, in \u001B[36mOptimizer._fit\u001B[39m\u001B[34m(self, objective, gradient, start_params, fargs, kwargs, hessian, method, maxiter, full_output, disp, callback, retall)\u001B[39m\n\u001B[32m    240\u001B[39m     fit_funcs.update(extra_fit_funcs)\n\u001B[32m    242\u001B[39m func = fit_funcs[method]\n\u001B[32m--> \u001B[39m\u001B[32m243\u001B[39m xopt, retvals = \u001B[43mfunc\u001B[49m\u001B[43m(\u001B[49m\u001B[43mobjective\u001B[49m\u001B[43m,\u001B[49m\u001B[43m \u001B[49m\u001B[43mgradient\u001B[49m\u001B[43m,\u001B[49m\u001B[43m \u001B[49m\u001B[43mstart_params\u001B[49m\u001B[43m,\u001B[49m\u001B[43m \u001B[49m\u001B[43mfargs\u001B[49m\u001B[43m,\u001B[49m\u001B[43m \u001B[49m\u001B[43mkwargs\u001B[49m\u001B[43m,\u001B[49m\n\u001B[32m    244\u001B[39m \u001B[43m                     \u001B[49m\u001B[43mdisp\u001B[49m\u001B[43m=\u001B[49m\u001B[43mdisp\u001B[49m\u001B[43m,\u001B[49m\u001B[43m \u001B[49m\u001B[43mmaxiter\u001B[49m\u001B[43m=\u001B[49m\u001B[43mmaxiter\u001B[49m\u001B[43m,\u001B[49m\u001B[43m \u001B[49m\u001B[43mcallback\u001B[49m\u001B[43m=\u001B[49m\u001B[43mcallback\u001B[49m\u001B[43m,\u001B[49m\n\u001B[32m    245\u001B[39m \u001B[43m                     \u001B[49m\u001B[43mretall\u001B[49m\u001B[43m=\u001B[49m\u001B[43mretall\u001B[49m\u001B[43m,\u001B[49m\u001B[43m \u001B[49m\u001B[43mfull_output\u001B[49m\u001B[43m=\u001B[49m\u001B[43mfull_output\u001B[49m\u001B[43m,\u001B[49m\n\u001B[32m    246\u001B[39m \u001B[43m                     \u001B[49m\u001B[43mhess\u001B[49m\u001B[43m=\u001B[49m\u001B[43mhessian\u001B[49m\u001B[43m)\u001B[49m\n\u001B[32m    248\u001B[39m optim_settings = {\u001B[33m'\u001B[39m\u001B[33moptimizer\u001B[39m\u001B[33m'\u001B[39m: method, \u001B[33m'\u001B[39m\u001B[33mstart_params\u001B[39m\u001B[33m'\u001B[39m: start_params,\n\u001B[32m    249\u001B[39m                   \u001B[33m'\u001B[39m\u001B[33mmaxiter\u001B[39m\u001B[33m'\u001B[39m: maxiter, \u001B[33m'\u001B[39m\u001B[33mfull_output\u001B[39m\u001B[33m'\u001B[39m: full_output,\n\u001B[32m    250\u001B[39m                   \u001B[33m'\u001B[39m\u001B[33mdisp\u001B[39m\u001B[33m'\u001B[39m: disp, \u001B[33m'\u001B[39m\u001B[33mfargs\u001B[39m\u001B[33m'\u001B[39m: fargs, \u001B[33m'\u001B[39m\u001B[33mcallback\u001B[39m\u001B[33m'\u001B[39m: callback,\n\u001B[32m    251\u001B[39m                   \u001B[33m'\u001B[39m\u001B[33mretall\u001B[39m\u001B[33m'\u001B[39m: retall, \u001B[33m\"\u001B[39m\u001B[33mextra_fit_funcs\u001B[39m\u001B[33m\"\u001B[39m: extra_fit_funcs}\n\u001B[32m    252\u001B[39m optim_settings.update(kwargs)\n",
      "\u001B[36mFile \u001B[39m\u001B[32m~\\AppData\\Local\\Programs\\Python\\Python312\\Lib\\site-packages\\statsmodels\\base\\optimizer.py:660\u001B[39m, in \u001B[36m_fit_lbfgs\u001B[39m\u001B[34m(f, score, start_params, fargs, kwargs, disp, maxiter, callback, retall, full_output, hess)\u001B[39m\n\u001B[32m    657\u001B[39m \u001B[38;5;28;01melif\u001B[39;00m approx_grad:\n\u001B[32m    658\u001B[39m     func = f\n\u001B[32m--> \u001B[39m\u001B[32m660\u001B[39m retvals = \u001B[43moptimize\u001B[49m\u001B[43m.\u001B[49m\u001B[43mfmin_l_bfgs_b\u001B[49m\u001B[43m(\u001B[49m\u001B[43mfunc\u001B[49m\u001B[43m,\u001B[49m\u001B[43m \u001B[49m\u001B[43mstart_params\u001B[49m\u001B[43m,\u001B[49m\u001B[43m \u001B[49m\u001B[43mmaxiter\u001B[49m\u001B[43m=\u001B[49m\u001B[43mmaxiter\u001B[49m\u001B[43m,\u001B[49m\n\u001B[32m    661\u001B[39m \u001B[43m                                 \u001B[49m\u001B[43mcallback\u001B[49m\u001B[43m=\u001B[49m\u001B[43mcallback\u001B[49m\u001B[43m,\u001B[49m\u001B[43m \u001B[49m\u001B[43margs\u001B[49m\u001B[43m=\u001B[49m\u001B[43mfargs\u001B[49m\u001B[43m,\u001B[49m\n\u001B[32m    662\u001B[39m \u001B[43m                                 \u001B[49m\u001B[43mbounds\u001B[49m\u001B[43m=\u001B[49m\u001B[43mbounds\u001B[49m\u001B[43m,\u001B[49m\u001B[43m \u001B[49m\u001B[43mdisp\u001B[49m\u001B[43m=\u001B[49m\u001B[43mdisp\u001B[49m\u001B[43m,\u001B[49m\n\u001B[32m    663\u001B[39m \u001B[43m                                 \u001B[49m\u001B[43m*\u001B[49m\u001B[43m*\u001B[49m\u001B[43mextra_kwargs\u001B[49m\u001B[43m)\u001B[49m\n\u001B[32m    665\u001B[39m \u001B[38;5;28;01mif\u001B[39;00m full_output:\n\u001B[32m    666\u001B[39m     xopt, fopt, d = retvals\n",
      "\u001B[36mFile \u001B[39m\u001B[32m~\\AppData\\Local\\Programs\\Python\\Python312\\Lib\\site-packages\\scipy\\optimize\\_lbfgsb_py.py:277\u001B[39m, in \u001B[36mfmin_l_bfgs_b\u001B[39m\u001B[34m(func, x0, fprime, args, approx_grad, bounds, m, factr, pgtol, epsilon, iprint, maxfun, maxiter, disp, callback, maxls)\u001B[39m\n\u001B[32m    267\u001B[39m callback = _wrap_callback(callback)\n\u001B[32m    268\u001B[39m opts = {\u001B[33m'\u001B[39m\u001B[33mmaxcor\u001B[39m\u001B[33m'\u001B[39m: m,\n\u001B[32m    269\u001B[39m         \u001B[33m'\u001B[39m\u001B[33mftol\u001B[39m\u001B[33m'\u001B[39m: factr * np.finfo(\u001B[38;5;28mfloat\u001B[39m).eps,\n\u001B[32m    270\u001B[39m         \u001B[33m'\u001B[39m\u001B[33mgtol\u001B[39m\u001B[33m'\u001B[39m: pgtol,\n\u001B[32m   (...)\u001B[39m\u001B[32m    274\u001B[39m         \u001B[33m'\u001B[39m\u001B[33mcallback\u001B[39m\u001B[33m'\u001B[39m: callback,\n\u001B[32m    275\u001B[39m         \u001B[33m'\u001B[39m\u001B[33mmaxls\u001B[39m\u001B[33m'\u001B[39m: maxls}\n\u001B[32m--> \u001B[39m\u001B[32m277\u001B[39m res = \u001B[43m_minimize_lbfgsb\u001B[49m\u001B[43m(\u001B[49m\u001B[43mfun\u001B[49m\u001B[43m,\u001B[49m\u001B[43m \u001B[49m\u001B[43mx0\u001B[49m\u001B[43m,\u001B[49m\u001B[43m \u001B[49m\u001B[43margs\u001B[49m\u001B[43m=\u001B[49m\u001B[43margs\u001B[49m\u001B[43m,\u001B[49m\u001B[43m \u001B[49m\u001B[43mjac\u001B[49m\u001B[43m=\u001B[49m\u001B[43mjac\u001B[49m\u001B[43m,\u001B[49m\u001B[43m \u001B[49m\u001B[43mbounds\u001B[49m\u001B[43m=\u001B[49m\u001B[43mbounds\u001B[49m\u001B[43m,\u001B[49m\n\u001B[32m    278\u001B[39m \u001B[43m                       \u001B[49m\u001B[43m*\u001B[49m\u001B[43m*\u001B[49m\u001B[43mopts\u001B[49m\u001B[43m)\u001B[49m\n\u001B[32m    279\u001B[39m d = {\u001B[33m'\u001B[39m\u001B[33mgrad\u001B[39m\u001B[33m'\u001B[39m: res[\u001B[33m'\u001B[39m\u001B[33mjac\u001B[39m\u001B[33m'\u001B[39m],\n\u001B[32m    280\u001B[39m      \u001B[33m'\u001B[39m\u001B[33mtask\u001B[39m\u001B[33m'\u001B[39m: res[\u001B[33m'\u001B[39m\u001B[33mmessage\u001B[39m\u001B[33m'\u001B[39m],\n\u001B[32m    281\u001B[39m      \u001B[33m'\u001B[39m\u001B[33mfuncalls\u001B[39m\u001B[33m'\u001B[39m: res[\u001B[33m'\u001B[39m\u001B[33mnfev\u001B[39m\u001B[33m'\u001B[39m],\n\u001B[32m    282\u001B[39m      \u001B[33m'\u001B[39m\u001B[33mnit\u001B[39m\u001B[33m'\u001B[39m: res[\u001B[33m'\u001B[39m\u001B[33mnit\u001B[39m\u001B[33m'\u001B[39m],\n\u001B[32m    283\u001B[39m      \u001B[33m'\u001B[39m\u001B[33mwarnflag\u001B[39m\u001B[33m'\u001B[39m: res[\u001B[33m'\u001B[39m\u001B[33mstatus\u001B[39m\u001B[33m'\u001B[39m]}\n\u001B[32m    284\u001B[39m f = res[\u001B[33m'\u001B[39m\u001B[33mfun\u001B[39m\u001B[33m'\u001B[39m]\n",
      "\u001B[36mFile \u001B[39m\u001B[32m~\\AppData\\Local\\Programs\\Python\\Python312\\Lib\\site-packages\\scipy\\optimize\\_lbfgsb_py.py:441\u001B[39m, in \u001B[36m_minimize_lbfgsb\u001B[39m\u001B[34m(fun, x0, args, jac, bounds, disp, maxcor, ftol, gtol, eps, maxfun, maxiter, iprint, callback, maxls, finite_diff_rel_step, **unknown_options)\u001B[39m\n\u001B[32m    433\u001B[39m _lbfgsb.setulb(m, x, low_bnd, upper_bnd, nbd, f, g, factr, pgtol, wa,\n\u001B[32m    434\u001B[39m                iwa, task, lsave, isave, dsave, maxls, ln_task)\n\u001B[32m    436\u001B[39m \u001B[38;5;28;01mif\u001B[39;00m task[\u001B[32m0\u001B[39m] == \u001B[32m3\u001B[39m:\n\u001B[32m    437\u001B[39m     \u001B[38;5;66;03m# The minimization routine wants f and g at the current x.\u001B[39;00m\n\u001B[32m    438\u001B[39m     \u001B[38;5;66;03m# Note that interruptions due to maxfun are postponed\u001B[39;00m\n\u001B[32m    439\u001B[39m     \u001B[38;5;66;03m# until the completion of the current minimization iteration.\u001B[39;00m\n\u001B[32m    440\u001B[39m     \u001B[38;5;66;03m# Overwrite f and g:\u001B[39;00m\n\u001B[32m--> \u001B[39m\u001B[32m441\u001B[39m     f, g = \u001B[43mfunc_and_grad\u001B[49m\u001B[43m(\u001B[49m\u001B[43mx\u001B[49m\u001B[43m)\u001B[49m\n\u001B[32m    442\u001B[39m \u001B[38;5;28;01melif\u001B[39;00m task[\u001B[32m0\u001B[39m] == \u001B[32m1\u001B[39m:\n\u001B[32m    443\u001B[39m     \u001B[38;5;66;03m# new iteration\u001B[39;00m\n\u001B[32m    444\u001B[39m     n_iterations += \u001B[32m1\u001B[39m\n",
      "\u001B[36mFile \u001B[39m\u001B[32m~\\AppData\\Local\\Programs\\Python\\Python312\\Lib\\site-packages\\scipy\\optimize\\_differentiable_functions.py:345\u001B[39m, in \u001B[36mScalarFunction.fun_and_grad\u001B[39m\u001B[34m(self, x)\u001B[39m\n\u001B[32m    343\u001B[39m     \u001B[38;5;28mself\u001B[39m._update_x(x)\n\u001B[32m    344\u001B[39m \u001B[38;5;28mself\u001B[39m._update_fun()\n\u001B[32m--> \u001B[39m\u001B[32m345\u001B[39m \u001B[38;5;28;43mself\u001B[39;49m\u001B[43m.\u001B[49m\u001B[43m_update_grad\u001B[49m\u001B[43m(\u001B[49m\u001B[43m)\u001B[49m\n\u001B[32m    346\u001B[39m \u001B[38;5;28;01mreturn\u001B[39;00m \u001B[38;5;28mself\u001B[39m.f, \u001B[38;5;28mself\u001B[39m.g\n",
      "\u001B[36mFile \u001B[39m\u001B[32m~\\AppData\\Local\\Programs\\Python\\Python312\\Lib\\site-packages\\scipy\\optimize\\_differentiable_functions.py:307\u001B[39m, in \u001B[36mScalarFunction._update_grad\u001B[39m\u001B[34m(self)\u001B[39m\n\u001B[32m    305\u001B[39m \u001B[38;5;28;01mif\u001B[39;00m \u001B[38;5;28mself\u001B[39m._orig_grad \u001B[38;5;129;01min\u001B[39;00m FD_METHODS:\n\u001B[32m    306\u001B[39m     \u001B[38;5;28mself\u001B[39m._update_fun()\n\u001B[32m--> \u001B[39m\u001B[32m307\u001B[39m \u001B[38;5;28mself\u001B[39m.g = \u001B[38;5;28;43mself\u001B[39;49m\u001B[43m.\u001B[49m\u001B[43m_wrapped_grad\u001B[49m\u001B[43m(\u001B[49m\u001B[38;5;28;43mself\u001B[39;49m\u001B[43m.\u001B[49m\u001B[43mx\u001B[49m\u001B[43m,\u001B[49m\u001B[43m \u001B[49m\u001B[43mf0\u001B[49m\u001B[43m=\u001B[49m\u001B[38;5;28;43mself\u001B[39;49m\u001B[43m.\u001B[49m\u001B[43mf\u001B[49m\u001B[43m)\u001B[49m\n\u001B[32m    308\u001B[39m \u001B[38;5;28mself\u001B[39m.g_updated = \u001B[38;5;28;01mTrue\u001B[39;00m\n",
      "\u001B[36mFile \u001B[39m\u001B[32m~\\AppData\\Local\\Programs\\Python\\Python312\\Lib\\site-packages\\scipy\\optimize\\_differentiable_functions.py:48\u001B[39m, in \u001B[36m_wrapper_grad.<locals>.wrapped1\u001B[39m\u001B[34m(x, f0)\u001B[39m\n\u001B[32m     46\u001B[39m \u001B[38;5;28;01mdef\u001B[39;00m\u001B[38;5;250m \u001B[39m\u001B[34mwrapped1\u001B[39m(x, f0=\u001B[38;5;28;01mNone\u001B[39;00m):\n\u001B[32m     47\u001B[39m     ncalls[\u001B[32m0\u001B[39m] += \u001B[32m1\u001B[39m\n\u001B[32m---> \u001B[39m\u001B[32m48\u001B[39m     \u001B[38;5;28;01mreturn\u001B[39;00m \u001B[43mapprox_derivative\u001B[49m\u001B[43m(\u001B[49m\n\u001B[32m     49\u001B[39m \u001B[43m        \u001B[49m\u001B[43mfun\u001B[49m\u001B[43m,\u001B[49m\u001B[43m \u001B[49m\u001B[43mx\u001B[49m\u001B[43m,\u001B[49m\u001B[43m \u001B[49m\u001B[43mf0\u001B[49m\u001B[43m=\u001B[49m\u001B[43mf0\u001B[49m\u001B[43m,\u001B[49m\u001B[43m \u001B[49m\u001B[43m*\u001B[49m\u001B[43m*\u001B[49m\u001B[43mfinite_diff_options\u001B[49m\n\u001B[32m     50\u001B[39m \u001B[43m    \u001B[49m\u001B[43m)\u001B[49m\n",
      "\u001B[36mFile \u001B[39m\u001B[32m~\\AppData\\Local\\Programs\\Python\\Python312\\Lib\\site-packages\\scipy\\optimize\\_numdiff.py:523\u001B[39m, in \u001B[36mapprox_derivative\u001B[39m\u001B[34m(fun, x0, method, rel_step, abs_step, f0, bounds, sparsity, as_linear_operator, args, kwargs)\u001B[39m\n\u001B[32m    520\u001B[39m     use_one_sided = \u001B[38;5;28;01mFalse\u001B[39;00m\n\u001B[32m    522\u001B[39m \u001B[38;5;28;01mif\u001B[39;00m sparsity \u001B[38;5;129;01mis\u001B[39;00m \u001B[38;5;28;01mNone\u001B[39;00m:\n\u001B[32m--> \u001B[39m\u001B[32m523\u001B[39m     \u001B[38;5;28;01mreturn\u001B[39;00m \u001B[43m_dense_difference\u001B[49m\u001B[43m(\u001B[49m\u001B[43mfun_wrapped\u001B[49m\u001B[43m,\u001B[49m\u001B[43m \u001B[49m\u001B[43mx0\u001B[49m\u001B[43m,\u001B[49m\u001B[43m \u001B[49m\u001B[43mf0\u001B[49m\u001B[43m,\u001B[49m\u001B[43m \u001B[49m\u001B[43mh\u001B[49m\u001B[43m,\u001B[49m\n\u001B[32m    524\u001B[39m \u001B[43m                             \u001B[49m\u001B[43muse_one_sided\u001B[49m\u001B[43m,\u001B[49m\u001B[43m \u001B[49m\u001B[43mmethod\u001B[49m\u001B[43m)\u001B[49m\n\u001B[32m    525\u001B[39m \u001B[38;5;28;01melse\u001B[39;00m:\n\u001B[32m    526\u001B[39m     \u001B[38;5;28;01mif\u001B[39;00m \u001B[38;5;129;01mnot\u001B[39;00m issparse(sparsity) \u001B[38;5;129;01mand\u001B[39;00m \u001B[38;5;28mlen\u001B[39m(sparsity) == \u001B[32m2\u001B[39m:\n",
      "\u001B[36mFile \u001B[39m\u001B[32m~\\AppData\\Local\\Programs\\Python\\Python312\\Lib\\site-packages\\scipy\\optimize\\_numdiff.py:596\u001B[39m, in \u001B[36m_dense_difference\u001B[39m\u001B[34m(fun, x0, f0, h, use_one_sided, method)\u001B[39m\n\u001B[32m    594\u001B[39m     x1[i] += h[i]\n\u001B[32m    595\u001B[39m     dx = x1[i] - x0[i]  \u001B[38;5;66;03m# Recompute dx as exactly representable number.\u001B[39;00m\n\u001B[32m--> \u001B[39m\u001B[32m596\u001B[39m     df = \u001B[43mfun\u001B[49m\u001B[43m(\u001B[49m\u001B[43mx1\u001B[49m\u001B[43m)\u001B[49m - f0\n\u001B[32m    597\u001B[39m \u001B[38;5;28;01melif\u001B[39;00m method == \u001B[33m'\u001B[39m\u001B[33m3-point\u001B[39m\u001B[33m'\u001B[39m \u001B[38;5;129;01mand\u001B[39;00m use_one_sided[i]:\n\u001B[32m    598\u001B[39m     x1[i] += h[i]\n",
      "\u001B[36mFile \u001B[39m\u001B[32m~\\AppData\\Local\\Programs\\Python\\Python312\\Lib\\site-packages\\scipy\\optimize\\_numdiff.py:474\u001B[39m, in \u001B[36mapprox_derivative.<locals>.fun_wrapped\u001B[39m\u001B[34m(x)\u001B[39m\n\u001B[32m    471\u001B[39m \u001B[38;5;28;01mif\u001B[39;00m xp.isdtype(x.dtype, \u001B[33m\"\u001B[39m\u001B[33mreal floating\u001B[39m\u001B[33m\"\u001B[39m):\n\u001B[32m    472\u001B[39m     x = xp.astype(x, x0.dtype)\n\u001B[32m--> \u001B[39m\u001B[32m474\u001B[39m f = np.atleast_1d(\u001B[43mfun\u001B[49m\u001B[43m(\u001B[49m\u001B[43mx\u001B[49m\u001B[43m,\u001B[49m\u001B[43m \u001B[49m\u001B[43m*\u001B[49m\u001B[43margs\u001B[49m\u001B[43m,\u001B[49m\u001B[43m \u001B[49m\u001B[43m*\u001B[49m\u001B[43m*\u001B[49m\u001B[43mkwargs\u001B[49m\u001B[43m)\u001B[49m)\n\u001B[32m    475\u001B[39m \u001B[38;5;28;01mif\u001B[39;00m f.ndim > \u001B[32m1\u001B[39m:\n\u001B[32m    476\u001B[39m     \u001B[38;5;28;01mraise\u001B[39;00m \u001B[38;5;167;01mRuntimeError\u001B[39;00m(\u001B[33m\"\u001B[39m\u001B[33m`fun` return value has \u001B[39m\u001B[33m\"\u001B[39m\n\u001B[32m    477\u001B[39m                        \u001B[33m\"\u001B[39m\u001B[33mmore than 1 dimension.\u001B[39m\u001B[33m\"\u001B[39m)\n",
      "\u001B[36mFile \u001B[39m\u001B[32m~\\AppData\\Local\\Programs\\Python\\Python312\\Lib\\site-packages\\scipy\\optimize\\_differentiable_functions.py:21\u001B[39m, in \u001B[36m_wrapper_fun.<locals>.wrapped\u001B[39m\u001B[34m(x)\u001B[39m\n\u001B[32m     17\u001B[39m ncalls[\u001B[32m0\u001B[39m] += \u001B[32m1\u001B[39m\n\u001B[32m     18\u001B[39m \u001B[38;5;66;03m# Send a copy because the user may overwrite it.\u001B[39;00m\n\u001B[32m     19\u001B[39m \u001B[38;5;66;03m# Overwriting results in undefined behaviour because\u001B[39;00m\n\u001B[32m     20\u001B[39m \u001B[38;5;66;03m# fun(self.x) will change self.x, with the two no longer linked.\u001B[39;00m\n\u001B[32m---> \u001B[39m\u001B[32m21\u001B[39m fx = \u001B[43mfun\u001B[49m\u001B[43m(\u001B[49m\u001B[43mnp\u001B[49m\u001B[43m.\u001B[49m\u001B[43mcopy\u001B[49m\u001B[43m(\u001B[49m\u001B[43mx\u001B[49m\u001B[43m)\u001B[49m\u001B[43m,\u001B[49m\u001B[43m \u001B[49m\u001B[43m*\u001B[49m\u001B[43margs\u001B[49m\u001B[43m)\u001B[49m\n\u001B[32m     22\u001B[39m \u001B[38;5;66;03m# Make sure the function returns a true scalar\u001B[39;00m\n\u001B[32m     23\u001B[39m \u001B[38;5;28;01mif\u001B[39;00m \u001B[38;5;129;01mnot\u001B[39;00m np.isscalar(fx):\n",
      "\u001B[36mFile \u001B[39m\u001B[32m~\\AppData\\Local\\Programs\\Python\\Python312\\Lib\\site-packages\\statsmodels\\base\\model.py:534\u001B[39m, in \u001B[36mLikelihoodModel.fit.<locals>.f\u001B[39m\u001B[34m(params, *args)\u001B[39m\n\u001B[32m    533\u001B[39m \u001B[38;5;28;01mdef\u001B[39;00m\u001B[38;5;250m \u001B[39m\u001B[34mf\u001B[39m(params, *args):\n\u001B[32m--> \u001B[39m\u001B[32m534\u001B[39m     \u001B[38;5;28;01mreturn\u001B[39;00m -\u001B[38;5;28;43mself\u001B[39;49m\u001B[43m.\u001B[49m\u001B[43mloglike\u001B[49m\u001B[43m(\u001B[49m\u001B[43mparams\u001B[49m\u001B[43m,\u001B[49m\u001B[43m \u001B[49m\u001B[43m*\u001B[49m\u001B[43margs\u001B[49m\u001B[43m)\u001B[49m / nobs\n",
      "\u001B[36mFile \u001B[39m\u001B[32m~\\AppData\\Local\\Programs\\Python\\Python312\\Lib\\site-packages\\statsmodels\\tsa\\statespace\\mlemodel.py:940\u001B[39m, in \u001B[36mMLEModel.loglike\u001B[39m\u001B[34m(self, params, *args, **kwargs)\u001B[39m\n\u001B[32m    937\u001B[39m \u001B[38;5;28;01mif\u001B[39;00m complex_step:\n\u001B[32m    938\u001B[39m     kwargs[\u001B[33m'\u001B[39m\u001B[33minversion_method\u001B[39m\u001B[33m'\u001B[39m] = INVERT_UNIVARIATE | SOLVE_LU\n\u001B[32m--> \u001B[39m\u001B[32m940\u001B[39m loglike = \u001B[38;5;28;43mself\u001B[39;49m\u001B[43m.\u001B[49m\u001B[43mssm\u001B[49m\u001B[43m.\u001B[49m\u001B[43mloglike\u001B[49m\u001B[43m(\u001B[49m\u001B[43mcomplex_step\u001B[49m\u001B[43m=\u001B[49m\u001B[43mcomplex_step\u001B[49m\u001B[43m,\u001B[49m\u001B[43m \u001B[49m\u001B[43m*\u001B[49m\u001B[43m*\u001B[49m\u001B[43mkwargs\u001B[49m\u001B[43m)\u001B[49m\n\u001B[32m    942\u001B[39m \u001B[38;5;66;03m# Koopman, Shephard, and Doornik recommend maximizing the average\u001B[39;00m\n\u001B[32m    943\u001B[39m \u001B[38;5;66;03m# likelihood to avoid scale issues, but the averaging is done\u001B[39;00m\n\u001B[32m    944\u001B[39m \u001B[38;5;66;03m# automatically in the base model `fit` method\u001B[39;00m\n\u001B[32m    945\u001B[39m \u001B[38;5;28;01mreturn\u001B[39;00m loglike\n",
      "\u001B[36mFile \u001B[39m\u001B[32m~\\AppData\\Local\\Programs\\Python\\Python312\\Lib\\site-packages\\statsmodels\\tsa\\statespace\\kalman_filter.py:1001\u001B[39m, in \u001B[36mKalmanFilter.loglike\u001B[39m\u001B[34m(self, **kwargs)\u001B[39m\n\u001B[32m    985\u001B[39m \u001B[38;5;250m\u001B[39m\u001B[33mr\u001B[39m\u001B[33;03m\"\"\"\u001B[39;00m\n\u001B[32m    986\u001B[39m \u001B[33;03mCalculate the loglikelihood associated with the statespace model.\u001B[39;00m\n\u001B[32m    987\u001B[39m \n\u001B[32m   (...)\u001B[39m\u001B[32m    997\u001B[39m \u001B[33;03m    The joint loglikelihood.\u001B[39;00m\n\u001B[32m    998\u001B[39m \u001B[33;03m\"\"\"\u001B[39;00m\n\u001B[32m    999\u001B[39m kwargs.setdefault(\u001B[33m'\u001B[39m\u001B[33mconserve_memory\u001B[39m\u001B[33m'\u001B[39m,\n\u001B[32m   1000\u001B[39m                   MEMORY_CONSERVE ^ MEMORY_NO_LIKELIHOOD)\n\u001B[32m-> \u001B[39m\u001B[32m1001\u001B[39m kfilter = \u001B[38;5;28;43mself\u001B[39;49m\u001B[43m.\u001B[49m\u001B[43m_filter\u001B[49m\u001B[43m(\u001B[49m\u001B[43m*\u001B[49m\u001B[43m*\u001B[49m\u001B[43mkwargs\u001B[49m\u001B[43m)\u001B[49m\n\u001B[32m   1002\u001B[39m loglikelihood_burn = kwargs.get(\u001B[33m'\u001B[39m\u001B[33mloglikelihood_burn\u001B[39m\u001B[33m'\u001B[39m,\n\u001B[32m   1003\u001B[39m                                 \u001B[38;5;28mself\u001B[39m.loglikelihood_burn)\n\u001B[32m   1004\u001B[39m \u001B[38;5;28;01mif\u001B[39;00m \u001B[38;5;129;01mnot\u001B[39;00m (kwargs[\u001B[33m'\u001B[39m\u001B[33mconserve_memory\u001B[39m\u001B[33m'\u001B[39m] & MEMORY_NO_LIKELIHOOD):\n",
      "\u001B[31mKeyboardInterrupt\u001B[39m: "
     ]
    }
   ],
   "execution_count": 7
  }
 ],
 "metadata": {
  "kernelspec": {
   "display_name": "Python 3",
   "language": "python",
   "name": "python3"
  },
  "language_info": {
   "codemirror_mode": {
    "name": "ipython",
    "version": 2
   },
   "file_extension": ".py",
   "mimetype": "text/x-python",
   "name": "python",
   "nbconvert_exporter": "python",
   "pygments_lexer": "ipython2",
   "version": "2.7.6"
  }
 },
 "nbformat": 4,
 "nbformat_minor": 5
}
